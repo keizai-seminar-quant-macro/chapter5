{
 "cells": [
  {
   "cell_type": "code",
   "execution_count": null,
   "metadata": {},
   "outputs": [],
   "source": [
    "# using SpecialFunctions"
   ]
  },
  {
   "cell_type": "code",
   "execution_count": 16,
   "metadata": {},
   "outputs": [
    {
     "data": {
      "text/plain": [
       "erfc_approx (generic function with 1 method)"
      ]
     },
     "execution_count": 16,
     "metadata": {},
     "output_type": "execute_result"
    }
   ],
   "source": [
    "function erfc_approx(z)\n",
    "    e = 2/sqrt(pi)*(z-z^3/3+z^5/10-z^7/42+z^9/216)\n",
    "#     a = -(8/(3*pi))*(pi-3)/(pi-4)\n",
    "#     e = sqrt(1-exp(-z^2*(4/pi+a*z^2)/(1+a*z^2)))\n",
    "#     if (z<0.0) e = -e end\n",
    "    return 1-e\n",
    "end"
   ]
  },
  {
   "cell_type": "code",
   "execution_count": 17,
   "metadata": {},
   "outputs": [
    {
     "data": {
      "text/plain": [
       "cdf_normal (generic function with 1 method)"
      ]
     },
     "execution_count": 17,
     "metadata": {},
     "output_type": "execute_result"
    }
   ],
   "source": [
    "function cdf_normal(x)\n",
    "#     c = 0.5*erfc(-x/sqrt(2))\n",
    "    c_approx = 0.5*erfc_approx(-x/sqrt(2))\n",
    "    return c_approx\n",
    "end"
   ]
  },
  {
   "cell_type": "code",
   "execution_count": 18,
   "metadata": {},
   "outputs": [
    {
     "data": {
      "text/plain": [
       "0.5398278372770291"
      ]
     },
     "execution_count": 18,
     "metadata": {},
     "output_type": "execute_result"
    }
   ],
   "source": [
    "cdf_normal(0.1)\n",
    "# a = -(8/(3*pi))*(pi-3)/(pi-4)\n"
   ]
  },
  {
   "cell_type": "code",
   "execution_count": 21,
   "metadata": {},
   "outputs": [
    {
     "data": {
      "text/plain": [
       "tauchen (generic function with 1 method)"
      ]
     },
     "execution_count": 21,
     "metadata": {},
     "output_type": "execute_result"
    }
   ],
   "source": [
    "function tauchen(N,mu,rho,sigma,m)\n",
    "\n",
    "    Z     = zeros(N,1) # グリッド\n",
    "    Zprob = zeros(N,N) # 遷移確率の行列\n",
    "    c     = (1-rho)*mu # 定数項\n",
    "\n",
    "    # 等間隔のグリッドを定める\n",
    "    # 最大値と最小値\n",
    "    zmax  = m*sqrt(sigma^2/(1-rho^2))\n",
    "    zmin  = -zmax\n",
    "    # グリッド間の間隔\n",
    "    w = (zmax-zmin)/(N-1)\n",
    "\n",
    "    Z = collect(LinRange(zmin,zmax,N))\n",
    "    # Z = linspace(zmin,zmax,N)'\n",
    "    # 定常状態はmu\n",
    "    Z = Z .+ mu\n",
    "\n",
    "    # グリッドを所与として、遷移確率を求める\n",
    "    for j = 1:N\n",
    "        for k = 1:N\n",
    "            if k == 1\n",
    "                Zprob[j,k] = cdf_normal((Z[1]-c-rho*Z[j]+w/2)/sigma)\n",
    "            elseif k == N\n",
    "                Zprob[j,k] = 1 - cdf_normal((Z[N]-c-rho*Z[j]-w/2)/sigma)\n",
    "            else\n",
    "                Zprob[j,k] = cdf_normal((Z[k]-c-rho*Z[j]+w/2)/sigma) - cdf_normal((Z[k]-c-rho*Z[j]-w/2)/sigma)\n",
    "            end\n",
    "        end\n",
    "    end\n",
    "    \n",
    "    return Z,Zprob\n",
    "    \n",
    "end"
   ]
  },
  {
   "cell_type": "code",
   "execution_count": null,
   "metadata": {},
   "outputs": [],
   "source": [
    "struct Model{TI<:Integer, TF<:AbstractFloat, TV<:Vector}\n",
    "    rstar::TF       # 割引因子\n",
    "    bet::TF       # 相対的危険回避度\n",
    "    sig::TF       # 資本分配率\n",
    "    alp::TF       # 固定資本減耗      \n",
    "    the::TF\n",
    "    ome::TF\n",
    "    kap::TF\n",
    "    lam::TF\n",
    "    Ng::TI      # 資本グリッドの個数\n",
    "    rhog::TF    # 資本グリッドの最大値\n",
    "    sigg::TF    # 資本グリッドの最小値 (0にすると生産が出来なくなる)\n",
    "    maxiter::TI # 繰り返し計算の最大値\n",
    "    tol::TF     # 許容誤差\n",
    "end"
   ]
  },
  {
   "cell_type": "code",
   "execution_count": null,
   "metadata": {},
   "outputs": [],
   "source": []
  },
  {
   "cell_type": "code",
   "execution_count": null,
   "metadata": {},
   "outputs": [],
   "source": [
    "m.rstar = 3.5/4; % pH=0のときの、定常状態での名目金利の値\n",
    "m.bet = 1/(1+m.rstar/100); % 割引率(オイラー方程式の定常状態より)\n",
    "m.sig = 6.25;\n",
    "m.alp = 0.66;\n",
    "m.the = 7.66;\n",
    "m.ome = 0.47;\n",
    "m.kap = (1-m.alp)*(1-m.alp*m.bet)/m.alp*(1/m.sig+m.ome)/(1+m.ome*m.the); %0.024;\n",
    "m.lam = 0.048/16; %0.003;\n",
    "\n",
    "% joint shock process\n",
    "m.rhou = 0;\n",
    "m.rhog = 0.8;\n",
    "m.sigu = 0.154;\n",
    "m.sigg = 1.524;\n",
    "m.Ng = 31;\n",
    "m.Nu = 31;\n",
    "\n",
    "m.maxiter = 2000; % 繰り返し回数の最大値\n",
    "m.tol = 1e-5; % 許容誤差"
   ]
  }
 ],
 "metadata": {
  "@webio": {
   "lastCommId": null,
   "lastKernelId": null
  },
  "kernelspec": {
   "display_name": "Julia 1.0.3",
   "language": "julia",
   "name": "julia-1.0"
  },
  "language_info": {
   "file_extension": ".jl",
   "mimetype": "application/julia",
   "name": "julia",
   "version": "1.0.3"
  }
 },
 "nbformat": 4,
 "nbformat_minor": 2
}
